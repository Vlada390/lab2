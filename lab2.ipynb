{
 "cells": [
  {
   "cell_type": "code",
   "execution_count": 45,
   "metadata": {},
   "outputs": [],
   "source": [
    "from PIL import Image\n",
    "import hashlib\n",
    "import random"
   ]
  },
  {
   "cell_type": "code",
   "execution_count": 46,
   "metadata": {},
   "outputs": [],
   "source": [
    "# Открыть BMP-файл и загрузить его содержимое\n",
    "image = Image.open(\"28.bmp\")\n",
    "pixels = image.load()"
   ]
  },
  {
   "cell_type": "code",
   "execution_count": 47,
   "metadata": {},
   "outputs": [],
   "source": [
    "# Сгенерировать ключ – список из случайных позиций байтов, в которые будут прятаться фейковые биты\n",
    "key = random.sample(range(122, image.size[0] * image.size[1] * 3), 8 * len(hashlib.sha1('leasing.txt'.encode()).digest()))"
   ]
  },
  {
   "cell_type": "code",
   "execution_count": 48,
   "metadata": {},
   "outputs": [],
   "source": [
    "# Внедрить хешкод файла в контейнеры BMP-файла\n",
    "binary_hash = ''.join(format(x, '08b') for x in hashlib.sha1('leasing.txt'.encode()).digest())\n",
    "i = 0\n",
    "for byte in binary_hash:\n",
    "    byte_position = key[i]\n",
    "    x = (byte_position - 122) // 3 % image.size[0]\n",
    "    y = (byte_position - 122) // 3 // image.size[0]\n",
    "    pixel = list(pixels[x, y])\n",
    "    pixel[byte_position % 3] = (pixel[byte_position % 3] & 0xFE) | int(byte)\n",
    "    pixels[x, y] = tuple(pixel)\n",
    "    i += 1"
   ]
  },
  {
   "cell_type": "code",
   "execution_count": 49,
   "metadata": {},
   "outputs": [],
   "source": [
    "# Сохранить модифицированный BMP-файл\n",
    "image.save(\"28_modified.bmp\")\n",
    "\n",
    "# Извлечь хеш-код файла из контейнеров BMP-файла\n",
    "extracted_hash = ''\n",
    "for i in range(8 * len(hashlib.sha1('leasing.txt'.encode()).digest())):\n",
    "    byte_position = key[i]\n",
    "    x = (byte_position - 122) // 3 % image.size[0]\n",
    "    y = (byte_position - 122) // 3 // image.size[0]\n",
    "    pixel = pixels[x, y]\n",
    "    extracted_hash += str(pixel[byte_position % 3] & 0x01)\n",
    "extracted_hash = hex(int(extracted_hash, 2))[2:]"
   ]
  },
  {
   "cell_type": "code",
   "execution_count": 50,
   "metadata": {},
   "outputs": [
    {
     "name": "stdout",
     "output_type": "stream",
     "text": [
      "Хешкоды совпадают\n"
     ]
    }
   ],
   "source": [
    "# Сравнить извлеченный хеш-код с оригинальным хешкодом файла и проверить, что они совпадают\n",
    "original_hash = hashlib.sha1('leasing.txt'.encode()).hexdigest()\n",
    "if extracted_hash == original_hash:\n",
    "    print(\"Хеш-коды совпадают\")\n",
    "else:\n",
    "    print(\"Хеш-коды не совпадают\")\n"
   ]
  }
 ],
 "metadata": {
  "kernelspec": {
   "display_name": "Python 3",
   "language": "python",
   "name": "python3"
  },
  "language_info": {
   "codemirror_mode": {
    "name": "ipython",
    "version": 3
   },
   "file_extension": ".py",
   "mimetype": "text/x-python",
   "name": "python",
   "nbconvert_exporter": "python",
   "pygments_lexer": "ipython3",
   "version": "3.10.0"
  },
  "orig_nbformat": 4
 },
 "nbformat": 4,
 "nbformat_minor": 2
}
